{
  "nbformat": 4,
  "nbformat_minor": 0,
  "metadata": {
    "colab": {
      "name": "blender.ipynb",
      "provenance": [],
      "collapsed_sections": [
        "RPiQkHVbCDu2",
        "PP4DzhYICKsk"
      ]
    },
    "kernelspec": {
      "name": "python3",
      "display_name": "Python 3"
    },
    "accelerator": "GPU"
  },
  "cells": [
    {
      "cell_type": "markdown",
      "metadata": {
        "id": "oKbzzL2rTQ4T"
      },
      "source": [
        "[![Open In Colab](https://colab.research.google.com/assets/colab-badge.svg)](https://colab.research.google.com/github/sinatv52/BlenderOnColab/blob/master/blender.ipynb)\n",
        "\n"
      ]
    },
    {
      "cell_type": "markdown",
      "metadata": {
        "id": "Ih0Sm4-MFw7F"
      },
      "source": [
        "**Type of the GPU ( Important! )**\n",
        "\n",
        " **نوع و میزان رم جی پی یو که کولب به ما می دهد** \n",
        " \n",
        " نوع جی پی یو بسیار مهم می باشد !"
      ]
    },
    {
      "cell_type": "code",
      "metadata": {
        "id": "aGlQwWT9IuCz",
        "outputId": "65855def-8ef3-490b-b0a0-db56a17df705",
        "colab": {
          "base_uri": "https://localhost:8080/"
        }
      },
      "source": [
        "!nvidia-smi"
      ],
      "execution_count": null,
      "outputs": [
        {
          "output_type": "stream",
          "name": "stdout",
          "text": [
            "Wed Mar  9 23:35:07 2022       \n",
            "+-----------------------------------------------------------------------------+\n",
            "| NVIDIA-SMI 460.32.03    Driver Version: 460.32.03    CUDA Version: 11.2     |\n",
            "|-------------------------------+----------------------+----------------------+\n",
            "| GPU  Name        Persistence-M| Bus-Id        Disp.A | Volatile Uncorr. ECC |\n",
            "| Fan  Temp  Perf  Pwr:Usage/Cap|         Memory-Usage | GPU-Util  Compute M. |\n",
            "|                               |                      |               MIG M. |\n",
            "|===============================+======================+======================|\n",
            "|   0  Tesla K80           Off  | 00000000:00:04.0 Off |                    0 |\n",
            "| N/A   65C    P8    31W / 149W |      0MiB / 11441MiB |      0%      Default |\n",
            "|                               |                      |                  N/A |\n",
            "+-------------------------------+----------------------+----------------------+\n",
            "                                                                               \n",
            "+-----------------------------------------------------------------------------+\n",
            "| Processes:                                                                  |\n",
            "|  GPU   GI   CI        PID   Type   Process name                  GPU Memory |\n",
            "|        ID   ID                                                   Usage      |\n",
            "|=============================================================================|\n",
            "|  No running processes found                                                 |\n",
            "+-----------------------------------------------------------------------------+\n"
          ]
        }
      ]
    },
    {
      "cell_type": "markdown",
      "metadata": {
        "id": "54u80adjU8Tx"
      },
      "source": [
        "**اتصال گوگل کولب به  گوگل درایو**\n",
        "\n",
        "**Connect to GDrive**"
      ]
    },
    {
      "cell_type": "code",
      "metadata": {
        "id": "MjUawANMG_LL"
      },
      "source": [
        "from google.colab import drive\n",
        "drive.mount('/content/drive')"
      ],
      "execution_count": null,
      "outputs": []
    },
    {
      "cell_type": "markdown",
      "metadata": {
        "id": "Zx_f7BB7Guuq"
      },
      "source": [
        "**نصب بلندر با توجه به نسخه مورد نظر**\n",
        "\n",
        "**Choose Blender Version ( Blender 3.1 Recommended! )**"
      ]
    },
    {
      "cell_type": "code",
      "metadata": {
        "id": "GPJ9fmoB6PWM"
      },
      "source": [
        "#@title Select Blender Version (used for rendering) then execute the cell{ display-mode: \"form\" }\n",
        "Blender_Version = 'Blender 3.1' #@param [\"Blender 2.79b\", \"Blender 2.80\", \"Blender 2.81\", \"Blender 2.82a\", \"Blender 2.83.0\", \"Blender 2.83.3\", \"Blender 2.90\", \"Blender 3.1\", \"Blender 2.93.3\", \"Blender 3.0.0\"]\n",
        "\n",
        "def path_leaf(path):\n",
        "  import ntpath\n",
        "  head, tail = ntpath.split(path)\n",
        "  return tail or ntpath.basename(head)\n",
        "\n",
        "dl_link = {\n",
        "    \"Blender 2.79b\": \"https://download.blender.org/release/Blender2.79/blender-2.79b-linux-glibc219-x86_64.tar.bz2\",\n",
        "    \"Blender 2.80\": \"https://download.blender.org/release/Blender2.80/blender-2.80-linux-glibc217-x86_64.tar.bz2\",\n",
        "    \"Blender 2.81\": \"https://download.blender.org/release/Blender2.81/blender-2.81-linux-glibc217-x86_64.tar.bz2\",\n",
        "    \"Blender 2.82a\": \"https://download.blender.org/release/Blender2.82/blender-2.82a-linux64.tar.xz\",\n",
        "    \"Blender 2.83.0\": \"https://download.blender.org/release/Blender2.83/blender-2.83.0-linux64.tar.xz\",\n",
        "    \"Blender 2.83.3\": \"https://download.blender.org/release/Blender2.83/blender-2.83.3-linux64.tar.xz\",\n",
        "    \"Blender 2.90\" : \"https://download.blender.org/release/Blender2.90/blender-2.90.0-linux64.tar.xz\",\n",
        "    \"Blender 2.92.0\": \"https://download.blender.org/release/Blender2.92/blender-2.92.0-linux64.tar.xz\",\n",
        "    \"Blender 2.93.3\": \"https://download.blender.org/release/Blender2.93/blender-2.93.3-linux-x64.tar.xz\",\n",
        "    \"Blender 3.1\": \"https://mirror.clarkson.edu/blender/release/Blender3.1/blender-3.1.0-linux-x64.tar.xz\"\n",
        "}\n",
        "\n",
        "\n",
        "dl = dl_link[Blender_Version]\n",
        "filename = path_leaf(dl)\n",
        "\n",
        "if (Blender_Version == \"Blender 2.90alpha (expiremental)\"):\n",
        "  !wget $dl\n",
        "  !sudo apt-get install p7zip-full\n",
        "  !7z x $filename\n",
        "  !mv blender_290bM_e935447a5370-20200625-1857 blender\n",
        "\n",
        "\n",
        "\n",
        "else:\n",
        "  !wget -nc $dl\n",
        "  !mkdir ./blender && tar xf $filename -C ./blender --strip-components 1\n",
        "\n",
        "\n",
        "\n",
        "!apt install libboost-all-dev\n",
        "!apt install libgl1-mesa-dev\n",
        "!apt install libglu1-mesa libsm-dev\n",
        "\n",
        "\n",
        "data = \"import re\\n\"+\\\n",
        "    \"import bpy\\n\"+\\\n",
        "    \"scene = bpy.context.scene\\n\"+\\\n",
        "    \"scene.cycles.device = 'GPU'\\n\"+\\\n",
        "    \"prefs = bpy.context.preferences\\n\"+\\\n",
        "    \"prefs.addons['cycles'].preferences.get_devices()\\n\"+\\\n",
        "    \"cprefs = prefs.addons['cycles'].preferences\\n\"+\\\n",
        "    \"print(cprefs)\\n\"+\\\n",
        "    \"# Attempt to set GPU device types if available\\n\"+\\\n",
        "    \"for compute_device_type in ('CUDA', 'OPENCL', 'NONE'):\\n\"+\\\n",
        "    \"    try:\\n\"+\\\n",
        "    \"        cprefs.compute_device_type = compute_device_type\\n\"+\\\n",
        "    \"        print('Device found',compute_device_type)\\n\"+\\\n",
        "    \"        break\\n\"+\\\n",
        "    \"    except TypeError:\\n\"+\\\n",
        "    \"        pass\\n\"+\\\n",
        "    \"# Enable all CPU and GPU devices\\n\"+\\\n",
        "    \"for device in cprefs.devices:\\n\"+\\\n",
        "    \"    if not re.match('intel', device.name, re.I):\\n\"+\\\n",
        "    \"        print('Activating',device)\\n\"+\\\n",
        "    \"        device.use = True\\n\"\n",
        "with open('setgpu.py', 'w') as f:\n",
        "    f.write(data)"
      ],
      "execution_count": null,
      "outputs": []
    },
    {
      "cell_type": "markdown",
      "source": [
        "### **Run the following cell code ONLY if your GPU is K80 And delete the Sudo word in the folloing codes while rendering !!!!!!!!**\n",
        "\n",
  
        "**فقط اگر مدل جی پی یو شما کا80 بود این کد را اجرا کنید. در غیر اینصورت اجرا نکنید !!!! **\n"
      ],
      "metadata": {
        "id": "H9FFgKRjFR64"
      }
    },
    {
      "cell_type": "code",
      "source": [
        "import os\n",
        "os.environ[\"LD_PRELOAD\"] = \"\"\n",
        "!apt remove libtcmalloc-minimal4\n",
        "!apt install libtcmalloc-minimal4\n",
        "os.environ[\"LD_PRELOAD\"] = \"/usr/lib/x86_64-linux-gnu/libtcmalloc_minimal.so.4.3.0\""
      ],
      "metadata": {
        "id": "qhoVd1g0Ef8z"
      },
      "execution_count": null,
      "outputs": []
    },
    {
      "cell_type": "markdown",
      "metadata": {
        "id": "RPiQkHVbCDu2"
      },
      "source": [
        "## رندرگیری برای یک فریم"
      ]
    },
    {
      "cell_type": "code",
      "metadata": {
        "id": "UPFwwW_Y3gRA"
      },
      "source": [
        "!cp /content/drive/My\\ Drive/SSSS/test.blend /content/"
      ],
      "execution_count": null,
      "outputs": []
    },
    {
      "cell_type": "code",
      "metadata": {
        "id": "Fpk2w3yM8XqQ"
      },
      "source": [
        "!sudo ./blender/blender -P setgpu.py -b '/content/test.blend' -o '/content/s.png' -f 1000"
      ],
      "execution_count": null,
      "outputs": []
    },
    {
      "cell_type": "code",
      "metadata": {
        "id": "Z7pgv18W3jG5"
      },
      "source": [
        "!cp /content/*.png /content/drive/My\\ Drive/SSSS/"
      ],
      "execution_count": null,
      "outputs": []
    },
    {
      "cell_type": "markdown",
      "metadata": {
        "id": "PP4DzhYICKsk"
      },
      "source": [
        "##رندرگیری برای چندین فریم"
      ]
    },
    {
      "cell_type": "code",
      "metadata": {
        "id": "zNNRr2i6JDVk"
      },
      "source": [
        "!cp /content/drive/My\\ Drive/SSSS/test.blend /content/"
      ],
      "execution_count": null,
      "outputs": []
    },
    {
      "cell_type": "code",
      "metadata": {
        "id": "VFVx8omJCGBN"
      },
      "source": [
        "!./blender/blender -P setgpu.py -b '/content/test.blend' -o '/content/s.png' -s 0001 -e 0003 -a"
      ],
      "execution_count": null,
      "outputs": []
    },
    {
      "cell_type": "code",
      "metadata": {
        "id": "aY9FhG-lATSL"
      },
      "source": [
        "!cp /content/*.png /content/drive/My\\ Drive/SSSS/"
      ],
      "execution_count": null,
      "outputs": []
    }
  ]
}
